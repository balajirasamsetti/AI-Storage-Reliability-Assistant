{
 "cells": [
  {
   "cell_type": "code",
   "execution_count": null,
   "id": "29ccc5f8",
   "metadata": {},
   "outputs": [],
   "source": [
    "# Prototype demo notebook\n",
    "!pip install -q -r ../requirements.txt"
   ]
  },
  {
   "cell_type": "code",
   "execution_count": null,
   "id": "6425b057",
   "metadata": {},
   "outputs": [],
   "source": [
    "!python ../src/data_generator.py"
   ]
  },
  {
   "cell_type": "code",
   "execution_count": null,
   "id": "85ef902f",
   "metadata": {},
   "outputs": [],
   "source": [
    "!python ../src/data_preprocessing.py"
   ]
  },
  {
   "cell_type": "code",
   "execution_count": null,
   "id": "5de840ae",
   "metadata": {},
   "outputs": [],
   "source": [
    "!python ../src/predictive_model.py"
   ]
  },
  {
   "cell_type": "code",
   "execution_count": null,
   "id": "43518d5c",
   "metadata": {},
   "outputs": [],
   "source": [
    "!python ../src/alert_dashboard.py"
   ]
  }
 ],
 "metadata": {},
 "nbformat": 4,
 "nbformat_minor": 5
}
