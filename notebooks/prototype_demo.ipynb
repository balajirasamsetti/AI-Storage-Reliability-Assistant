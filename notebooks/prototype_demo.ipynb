# Prototype demo notebook
!pip install -q -r ../requirements.txt

!python ../src/data_generator.py

!python ../src/data_preprocessing.py

!python ../src/predictive_model.py

!python ../src/alert_dashboard.py
